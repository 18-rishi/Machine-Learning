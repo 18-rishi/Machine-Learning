{
 "cells": [
  {
   "cell_type": "code",
   "execution_count": 2,
   "metadata": {},
   "outputs": [
    {
     "ename": "SyntaxError",
     "evalue": "invalid syntax (<ipython-input-2-0375650fb971>, line 33)",
     "output_type": "error",
     "traceback": [
      "\u001b[1;36m  File \u001b[1;32m\"<ipython-input-2-0375650fb971>\"\u001b[1;36m, line \u001b[1;32m33\u001b[0m\n\u001b[1;33m    4    1\u001b[0m\n\u001b[1;37m         ^\u001b[0m\n\u001b[1;31mSyntaxError\u001b[0m\u001b[1;31m:\u001b[0m invalid syntax\n"
     ]
    }
   ],
   "source": [
    "import numpy as np\n",
    "import matplotlib.pyplot as plt\n",
    "import pandas as pd\n",
    "from sklearn import preprocessing\n",
    " \n",
    "label_encoder = preprocessing.LabelEncoder()\n",
    " \n",
    "# Encode labels in column 'species'.\n",
    "\n",
    "\n",
    "\n",
    "# Importing the dataset\n",
    "df = pd.read_csv('pollution.csv')\n",
    "df['Air Quality']= label_encoder.fit_transform(df['Air Quality'])\n",
    "X=df.iloc[:,:-1]\n",
    "y=df.iloc[:,-1]\n",
    "X.head(3)\n",
    "location\tmonth\tyear\tSO2 μg/l\tNO2μg/l\tPM10 μg/l\tPM2.5 μ g/l\tCO μg/l\tO3 μ g/l 8 HR\tNH3 μ g/l\tAQI\n",
    "0\tCLOCK TOWER-DEHRADUN\t1\t2012\t27.33\t30.33\t193.28\t60.0\t2\t100\t400\t162.19\n",
    "1\tCLOCK TOWER-DEHRADUN\t2\t2012\t25.68\t25.80\t173.77\t60.0\t2\t100\t400\t149.18\n",
    "2\tCLOCK TOWER-DEHRADUN\t3\t2012\t29.64\t27.50\t211.35\t60.0\t2\t100\t400\t174.23\n",
    "from sklearn.preprocessing import OneHotEncoder\n",
    "enc = OneHotEncoder()\n",
    "# transforming the column after fitting\n",
    "enc = enc.fit_transform(X[['location']]).toarray()\n",
    "# converting arrays to a dataframe\n",
    "encoded_colm = pd.DataFrame(enc)\n",
    "# concating dataframes \n",
    "X = pd.concat([X, encoded_colm], axis = 1) \n",
    "# removing the encoded column.\n",
    "X = X.drop(['location'], axis = 1)\n",
    "X.head(5)\n",
    "month\tyear\tSO2 μg/l\tNO2μg/l\tPM10 μg/l\tPM2.5 μ g/l\tCO μg/l\tO3 μ g/l 8 HR\tNH3 μ g/l\tAQI\t0\t1\t2\t3\t4\t5\t6\t7\n",
    "0\t1\t2012\t27.33\t30.33\t193.28\t60.0\t2\t100\t400\t162.19\t1.0\t0.0\t0.0\t0.0\t0.0\t0.0\t0.0\t0.0\n",
    "1\t2\t2012\t25.68\t25.80\t173.77\t60.0\t2\t100\t400\t149.18\t1.0\t0.0\t0.0\t0.0\t0.0\t0.0\t0.0\t0.0\n",
    "2\t3\t2012\t29.64\t27.50\t211.35\t60.0\t2\t100\t400\t174.23\t1.0\t0.0\t0.0\t0.0\t0.0\t0.0\t0.0\t0.0\n",
    "3\t4\t2012\t28.64\t26.81\t230.76\t60.0\t2\t100\t400\t187.17\t1.0\t0.0\t0.0\t0.0\t0.0\t0.0\t0.0\t0.0\n",
    "4\t5\t2012\t31.09\t29.30\t310.73\t60.0\t2\t100\t400\t260.73\t1.0\t0.0\t0.0\t0.0\t0.0\t0.0\t0.0\t0.0\n",
    "y.head(5)\n",
    "0    0\n",
    "1    0\n",
    "2    0\n",
    "3    0\n",
    "4    1\n",
    "Name: Air Quality, dtype: int32\n",
    "# Splitting the dataset into the Training set and Test set\n",
    "from sklearn.model_selection import train_test_split\n",
    "X_train, X_test, y_train, y_test = train_test_split(X, y, test_size = 0.20, random_state = 0)\n",
    "# Feature Scaling\n",
    "from sklearn.preprocessing import StandardScaler\n",
    "sc = StandardScaler()\n",
    "X_train = sc.fit_transform(X_train)\n",
    "X_test = sc.transform(X_test)\n",
    " \n",
    "# Fitting Decision Tree Classification to the Training set\n",
    "from sklearn.tree import DecisionTreeClassifier\n",
    "classifier = DecisionTreeClassifier(criterion = 'entropy', random_state = 0)\n",
    "classifier.fit(X_train, y_train)\n",
    "\n",
    "# Predicting the Test set results\n",
    "y_pred = classifier.predict(X_test)\n",
    "\n",
    "from sklearn.metrics import confusion_matrix\n",
    "from sklearn.metrics import accuracy_score\n",
    "#printing the accuracy of Decision tree\n",
    "accuracy_score(y_test, y_pred)\n",
    "0.9895833333333334\n",
    "# Fitting SVM to the Training set\n",
    "from sklearn.svm import SVC\n",
    "classifier = SVC(kernel = 'linear', random_state = 0)\n",
    "classifier.fit(X_train, y_train)\n",
    "\n",
    "# Predicting the Test set results\n",
    "y_pred = classifier.predict(X_test)\n",
    "#Accuracy of SVM\n",
    "accuracy_score(y_test, y_pred)\n",
    "0.9739583333333334\n",
    "#fitting knn model \n",
    "from sklearn.neighbors import KNeighborsClassifier\n",
    "classifier=KNeighborsClassifier(n_neighbors=5,metric='minkowski',p=2)\n",
    "classifier.fit(X_train,y_train)\n",
    "\n",
    "# Predicting the Test set results\n",
    "y_pred = classifier.predict(X_test)\n",
    "# Predicting the Test set results\n",
    "y_pred = classifier.predict(X_test)\n",
    "\n",
    "# Making the Confusion Matrix\n",
    "from sklearn.metrics import confusion_matrix\n",
    "cm = confusion_matrix(y_test, y_pred)\n",
    "#Accuracy of knn\n",
    "accuracy_score(y_test, y_pred)\n",
    "0.875\n",
    " "
   ]
  },
  {
   "cell_type": "code",
   "execution_count": null,
   "metadata": {},
   "outputs": [],
   "source": []
  },
  {
   "cell_type": "code",
   "execution_count": null,
   "metadata": {},
   "outputs": [],
   "source": []
  },
  {
   "cell_type": "code",
   "execution_count": null,
   "metadata": {},
   "outputs": [],
   "source": []
  },
  {
   "cell_type": "code",
   "execution_count": null,
   "metadata": {},
   "outputs": [],
   "source": []
  },
  {
   "cell_type": "code",
   "execution_count": null,
   "metadata": {},
   "outputs": [],
   "source": []
  },
  {
   "cell_type": "code",
   "execution_count": null,
   "metadata": {},
   "outputs": [],
   "source": []
  }
 ],
 "metadata": {
  "kernelspec": {
   "display_name": "Python 3",
   "language": "python",
   "name": "python3"
  },
  "language_info": {
   "codemirror_mode": {
    "name": "ipython",
    "version": 3
   },
   "file_extension": ".py",
   "mimetype": "text/x-python",
   "name": "python",
   "nbconvert_exporter": "python",
   "pygments_lexer": "ipython3",
   "version": "3.8.5"
  }
 },
 "nbformat": 4,
 "nbformat_minor": 4
}
