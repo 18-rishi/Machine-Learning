{
 "cells": [
  {
   "cell_type": "code",
   "execution_count": 2,
   "metadata": {},
   "outputs": [
    {
     "name": "stdout",
     "output_type": "stream",
     "text": [
      "               location  month  year  SO2 μg/l  NO2μg/l  PM10 μg/l  \\\n",
      "0  CLOCK TOWER-DEHRADUN      1  2012     27.33    30.33     193.28   \n",
      "1  CLOCK TOWER-DEHRADUN      2  2012     25.68    25.80     173.77   \n",
      "2  CLOCK TOWER-DEHRADUN      3  2012     29.64    27.50     211.35   \n",
      "\n",
      "   PM2.5 μ g/l  CO μg/l  O3 μ g/l 8 HR  NH3  μ g/l     AQI Air Quality  \n",
      "0         60.0        2            100         400  162.19    Moderate  \n",
      "1         60.0        2            100         400  149.18    Moderate  \n",
      "2         60.0        2            100         400  174.23    Moderate  \n"
     ]
    }
   ],
   "source": [
    "#Himasnhu Rawat MCA3B 2001069\n",
    "import pandas as pd\n",
    "df=pd.read_csv(\"pollution.csv\")\n",
    "print(df.head(3))"
   ]
  },
  {
   "cell_type": "code",
   "execution_count": 3,
   "metadata": {},
   "outputs": [
    {
     "data": {
      "text/html": [
       "<div>\n",
       "<style scoped>\n",
       "    .dataframe tbody tr th:only-of-type {\n",
       "        vertical-align: middle;\n",
       "    }\n",
       "\n",
       "    .dataframe tbody tr th {\n",
       "        vertical-align: top;\n",
       "    }\n",
       "\n",
       "    .dataframe thead th {\n",
       "        text-align: right;\n",
       "    }\n",
       "</style>\n",
       "<table border=\"1\" class=\"dataframe\">\n",
       "  <thead>\n",
       "    <tr style=\"text-align: right;\">\n",
       "      <th></th>\n",
       "      <th>location</th>\n",
       "      <th>month</th>\n",
       "      <th>year</th>\n",
       "      <th>SO2 μg/l</th>\n",
       "      <th>NO2μg/l</th>\n",
       "      <th>PM10 μg/l</th>\n",
       "      <th>PM2.5 μ g/l</th>\n",
       "      <th>CO μg/l</th>\n",
       "      <th>O3 μ g/l 8 HR</th>\n",
       "      <th>NH3  μ g/l</th>\n",
       "      <th>AQI</th>\n",
       "      <th>Air Quality</th>\n",
       "    </tr>\n",
       "  </thead>\n",
       "  <tbody>\n",
       "    <tr>\n",
       "      <th>0</th>\n",
       "      <td>CLOCK TOWER-DEHRADUN</td>\n",
       "      <td>1</td>\n",
       "      <td>2012</td>\n",
       "      <td>27.33</td>\n",
       "      <td>30.33</td>\n",
       "      <td>193.28</td>\n",
       "      <td>60.00</td>\n",
       "      <td>2</td>\n",
       "      <td>100</td>\n",
       "      <td>400</td>\n",
       "      <td>162.19</td>\n",
       "      <td>Moderate</td>\n",
       "    </tr>\n",
       "    <tr>\n",
       "      <th>1</th>\n",
       "      <td>CLOCK TOWER-DEHRADUN</td>\n",
       "      <td>2</td>\n",
       "      <td>2012</td>\n",
       "      <td>25.68</td>\n",
       "      <td>25.80</td>\n",
       "      <td>173.77</td>\n",
       "      <td>60.00</td>\n",
       "      <td>2</td>\n",
       "      <td>100</td>\n",
       "      <td>400</td>\n",
       "      <td>149.18</td>\n",
       "      <td>Moderate</td>\n",
       "    </tr>\n",
       "    <tr>\n",
       "      <th>2</th>\n",
       "      <td>CLOCK TOWER-DEHRADUN</td>\n",
       "      <td>3</td>\n",
       "      <td>2012</td>\n",
       "      <td>29.64</td>\n",
       "      <td>27.50</td>\n",
       "      <td>211.35</td>\n",
       "      <td>60.00</td>\n",
       "      <td>2</td>\n",
       "      <td>100</td>\n",
       "      <td>400</td>\n",
       "      <td>174.23</td>\n",
       "      <td>Moderate</td>\n",
       "    </tr>\n",
       "    <tr>\n",
       "      <th>3</th>\n",
       "      <td>CLOCK TOWER-DEHRADUN</td>\n",
       "      <td>4</td>\n",
       "      <td>2012</td>\n",
       "      <td>28.64</td>\n",
       "      <td>26.81</td>\n",
       "      <td>230.76</td>\n",
       "      <td>60.00</td>\n",
       "      <td>2</td>\n",
       "      <td>100</td>\n",
       "      <td>400</td>\n",
       "      <td>187.17</td>\n",
       "      <td>Moderate</td>\n",
       "    </tr>\n",
       "    <tr>\n",
       "      <th>4</th>\n",
       "      <td>CLOCK TOWER-DEHRADUN</td>\n",
       "      <td>5</td>\n",
       "      <td>2012</td>\n",
       "      <td>31.09</td>\n",
       "      <td>29.30</td>\n",
       "      <td>310.73</td>\n",
       "      <td>60.00</td>\n",
       "      <td>2</td>\n",
       "      <td>100</td>\n",
       "      <td>400</td>\n",
       "      <td>260.73</td>\n",
       "      <td>Poor</td>\n",
       "    </tr>\n",
       "    <tr>\n",
       "      <th>...</th>\n",
       "      <td>...</td>\n",
       "      <td>...</td>\n",
       "      <td>...</td>\n",
       "      <td>...</td>\n",
       "      <td>...</td>\n",
       "      <td>...</td>\n",
       "      <td>...</td>\n",
       "      <td>...</td>\n",
       "      <td>...</td>\n",
       "      <td>...</td>\n",
       "      <td>...</td>\n",
       "      <td>...</td>\n",
       "    </tr>\n",
       "    <tr>\n",
       "      <th>955</th>\n",
       "      <td>RUDRAPUR</td>\n",
       "      <td>8</td>\n",
       "      <td>2021</td>\n",
       "      <td>80.00</td>\n",
       "      <td>80.00</td>\n",
       "      <td>121.28</td>\n",
       "      <td>208.44</td>\n",
       "      <td>2</td>\n",
       "      <td>100</td>\n",
       "      <td>400</td>\n",
       "      <td>368.03</td>\n",
       "      <td>Very Poor</td>\n",
       "    </tr>\n",
       "    <tr>\n",
       "      <th>956</th>\n",
       "      <td>RUDRAPUR</td>\n",
       "      <td>9</td>\n",
       "      <td>2021</td>\n",
       "      <td>18.73</td>\n",
       "      <td>20.93</td>\n",
       "      <td>92.96</td>\n",
       "      <td>153.75</td>\n",
       "      <td>2</td>\n",
       "      <td>100</td>\n",
       "      <td>400</td>\n",
       "      <td>325.96</td>\n",
       "      <td>Very Poor</td>\n",
       "    </tr>\n",
       "    <tr>\n",
       "      <th>957</th>\n",
       "      <td>RUDRAPUR</td>\n",
       "      <td>10</td>\n",
       "      <td>2021</td>\n",
       "      <td>80.00</td>\n",
       "      <td>80.00</td>\n",
       "      <td>100.00</td>\n",
       "      <td>60.00</td>\n",
       "      <td>2</td>\n",
       "      <td>100</td>\n",
       "      <td>400</td>\n",
       "      <td>100.00</td>\n",
       "      <td>Satisfactory</td>\n",
       "    </tr>\n",
       "    <tr>\n",
       "      <th>958</th>\n",
       "      <td>RUDRAPUR</td>\n",
       "      <td>11</td>\n",
       "      <td>2021</td>\n",
       "      <td>80.00</td>\n",
       "      <td>80.00</td>\n",
       "      <td>100.00</td>\n",
       "      <td>60.00</td>\n",
       "      <td>2</td>\n",
       "      <td>100</td>\n",
       "      <td>400</td>\n",
       "      <td>100.00</td>\n",
       "      <td>Satisfactory</td>\n",
       "    </tr>\n",
       "    <tr>\n",
       "      <th>959</th>\n",
       "      <td>RUDRAPUR</td>\n",
       "      <td>12</td>\n",
       "      <td>2021</td>\n",
       "      <td>80.00</td>\n",
       "      <td>80.00</td>\n",
       "      <td>100.00</td>\n",
       "      <td>60.00</td>\n",
       "      <td>2</td>\n",
       "      <td>100</td>\n",
       "      <td>400</td>\n",
       "      <td>100.00</td>\n",
       "      <td>Satisfactory</td>\n",
       "    </tr>\n",
       "  </tbody>\n",
       "</table>\n",
       "<p>960 rows × 12 columns</p>\n",
       "</div>"
      ],
      "text/plain": [
       "                 location  month  year  SO2 μg/l  NO2μg/l  PM10 μg/l  \\\n",
       "0    CLOCK TOWER-DEHRADUN      1  2012     27.33    30.33     193.28   \n",
       "1    CLOCK TOWER-DEHRADUN      2  2012     25.68    25.80     173.77   \n",
       "2    CLOCK TOWER-DEHRADUN      3  2012     29.64    27.50     211.35   \n",
       "3    CLOCK TOWER-DEHRADUN      4  2012     28.64    26.81     230.76   \n",
       "4    CLOCK TOWER-DEHRADUN      5  2012     31.09    29.30     310.73   \n",
       "..                    ...    ...   ...       ...      ...        ...   \n",
       "955              RUDRAPUR      8  2021     80.00    80.00     121.28   \n",
       "956              RUDRAPUR      9  2021     18.73    20.93      92.96   \n",
       "957              RUDRAPUR     10  2021     80.00    80.00     100.00   \n",
       "958              RUDRAPUR     11  2021     80.00    80.00     100.00   \n",
       "959              RUDRAPUR     12  2021     80.00    80.00     100.00   \n",
       "\n",
       "     PM2.5 μ g/l  CO μg/l  O3 μ g/l 8 HR  NH3  μ g/l     AQI   Air Quality  \n",
       "0          60.00        2            100         400  162.19      Moderate  \n",
       "1          60.00        2            100         400  149.18      Moderate  \n",
       "2          60.00        2            100         400  174.23      Moderate  \n",
       "3          60.00        2            100         400  187.17      Moderate  \n",
       "4          60.00        2            100         400  260.73          Poor  \n",
       "..           ...      ...            ...         ...     ...           ...  \n",
       "955       208.44        2            100         400  368.03     Very Poor  \n",
       "956       153.75        2            100         400  325.96     Very Poor  \n",
       "957        60.00        2            100         400  100.00  Satisfactory  \n",
       "958        60.00        2            100         400  100.00  Satisfactory  \n",
       "959        60.00        2            100         400  100.00  Satisfactory  \n",
       "\n",
       "[960 rows x 12 columns]"
      ]
     },
     "execution_count": 3,
     "metadata": {},
     "output_type": "execute_result"
    }
   ],
   "source": [
    "df.columns\n",
    "df"
   ]
  },
  {
   "cell_type": "code",
   "execution_count": 3,
   "metadata": {},
   "outputs": [
    {
     "data": {
      "text/plain": [
       "location         0\n",
       "month            0\n",
       "year             0\n",
       "SO2 μg/l         0\n",
       "NO2μg/l          0\n",
       "PM10 μg/l        0\n",
       "PM2.5 μ g/l      0\n",
       "CO μg/l          0\n",
       "O3 μ g/l 8 HR    0\n",
       "NH3  μ g/l       0\n",
       "AQI              0\n",
       "Air Quality      0\n",
       "dtype: int64"
      ]
     },
     "execution_count": 3,
     "metadata": {},
     "output_type": "execute_result"
    }
   ],
   "source": [
    "#look for missing values\n",
    "df.isna().sum()"
   ]
  },
  {
   "cell_type": "markdown",
   "metadata": {},
   "source": [
    "# histogram"
   ]
  },
  {
   "cell_type": "code",
   "execution_count": 4,
   "metadata": {},
   "outputs": [],
   "source": [
    "import matplotlib.pyplot as plt"
   ]
  },
  {
   "cell_type": "code",
   "execution_count": 9,
   "metadata": {},
   "outputs": [
    {
     "data": {
      "image/png": "[encoded data removed]",
      "text/plain": [
       "<Figure size 360x216 with 1 Axes>"
      ]
     },
     "metadata": {
      "needs_background": "light"
     },
     "output_type": "display_data"
    }
   ],
   "source": [
    "fig, ax = plt.subplots(figsize=(5,3))\n",
    "plt.hist(df['NO2μg/l'],bins=5)\n",
    "plt.title('QUALITY')\n",
    "plt.xlabel('X')\n",
    "plt.ylabel('NO2μg/l')\n",
    "plt.show()"
   ]
  },
  {
   "cell_type": "markdown",
   "metadata": {},
   "source": [
    "# using seaborn\n"
   ]
  },
  {
   "cell_type": "code",
   "execution_count": 10,
   "metadata": {},
   "outputs": [],
   "source": [
    "import seaborn as sns"
   ]
  },
  {
   "cell_type": "code",
   "execution_count": 11,
   "metadata": {},
   "outputs": [
    {
     "name": "stderr",
     "output_type": "stream",
     "text": [
      "C:\\ProgramData\\Anaconda3\\lib\\site-packages\\seaborn\\distributions.py:2557: FutureWarning: `distplot` is a deprecated function and will be removed in a future version. Please adapt your code to use either `displot` (a figure-level function with similar flexibility) or `histplot` (an axes-level function for histograms).\n",
      "  warnings.warn(msg, FutureWarning)\n"
     ]
    },
    {
     "data": {
      "text/plain": [
       "Text(0.5, 0, 'AIR QUALITY')"
      ]
     },
     "execution_count": 11,
     "metadata": {},
     "output_type": "execute_result"
    },
    {
     "data": {
      "image/png": "[encoded data removed]",
      "text/plain": [
       "<Figure size 432x288 with 1 Axes>"
      ]
     },
     "metadata": {
      "needs_background": "light"
     },
     "output_type": "display_data"
    }
   ],
   "source": [
    "sns.distplot(df['AQI'],kde=False,bins=5)\n",
    "plt.xlabel('AIR QUALITY')"
   ]
  },
  {
   "cell_type": "markdown",
   "metadata": {},
   "source": [
    "# SCATTER PLOT"
   ]
  },
  {
   "cell_type": "markdown",
   "metadata": {},
   "source": [
    "sns.scatterplot(df['SO2 μg/l'],df['NO2μg/l'], hue=df['year'])\n",
    "\n",
    "plt.ylabel(\"AIR QUALITY\")\n",
    "plt.show()"
   ]
  },
  {
   "cell_type": "markdown",
   "metadata": {},
   "source": [
    "# box plot"
   ]
  },
  {
   "cell_type": "code",
   "execution_count": 24,
   "metadata": {},
   "outputs": [
    {
     "name": "stderr",
     "output_type": "stream",
     "text": [
      "C:\\ProgramData\\Anaconda3\\lib\\site-packages\\seaborn\\distributions.py:2557: FutureWarning: `distplot` is a deprecated function and will be removed in a future version. Please adapt your code to use either `displot` (a figure-level function with similar flexibility) or `histplot` (an axes-level function for histograms).\n",
      "  warnings.warn(msg, FutureWarning)\n"
     ]
    },
    {
     "data": {
      "image/png": "[encoded data removed]",
      "text/plain": [
       "<Figure size 432x288 with 1 Axes>"
      ]
     },
     "metadata": {},
     "output_type": "display_data"
    }
   ],
   "source": [
    "# Box Plot visualization MSSubClass with Seaborn \n",
    "import seaborn as sns \n",
    "\n",
    "sns.distplot(df['NO2μg/l'],bins=10) \n",
    "plt.xticks(range(0,200,25)) \n",
    "plt.show()"
   ]
  },
  {
   "cell_type": "markdown",
   "metadata": {},
   "source": [
    "# BAR GRAPH"
   ]
  },
  {
   "cell_type": "code",
   "execution_count": 30,
   "metadata": {},
   "outputs": [
    {
     "data": {
      "image/png": "[encoded data removed]",
      "text/plain": [
       "<Figure size 432x288 with 1 Axes>"
      ]
     },
     "metadata": {},
     "output_type": "display_data"
    }
   ],
   "source": [
    "\n",
    "\n",
    "\n",
    "X = list(df.iloc[:, 0])\n",
    "Y = list(df.iloc[:, 1])\n",
    "\n",
    "# Plot the data using bar() method\n",
    "plt.bar(X, Y, color='g')\n",
    "plt.title(\"month\")\n",
    "plt.xlabel(\"Years\")\n",
    "plt.ylabel(\"air quality\")\n",
    "figsize=(10,10)\n",
    "# Show the plot\n",
    "plt.show()\n"
   ]
  },
  {
   "cell_type": "code",
   "execution_count": null,
   "metadata": {},
   "outputs": [],
   "source": []
  }
 ],
 "metadata": {
  "kernelspec": {
   "display_name": "Python 3",
   "language": "python",
   "name": "python3"
  },
  "language_info": {
   "codemirror_mode": {
    "name": "ipython",
    "version": 3
   },
   "file_extension": ".py",
   "mimetype": "text/x-python",
   "name": "python",
   "nbconvert_exporter": "python",
   "pygments_lexer": "ipython3",
   "version": "3.8.5"
  }
 },
 "nbformat": 4,
 "nbformat_minor": 5
}
